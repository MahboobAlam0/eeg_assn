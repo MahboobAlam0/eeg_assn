{
 "cells": [
  {
   "cell_type": "code",
   "execution_count": null,
   "metadata": {},
   "outputs": [],
   "source": [
    "import pandas as pd\n",
    "import numpy as np\n",
    "import mne\n",
    "from sklearn.preprocessing import scale\n",
    "from scipy.signal import hilbert\n",
    "import pywt\n",
    "import matplotlib.pyplot as plt"
   ]
  },
  {
   "cell_type": "code",
   "execution_count": null,
   "metadata": {},
   "outputs": [],
   "source": [
    "file_path = 'Original_Data.xlsx'\n",
    "sfreq = 512  # Hz\n",
    "ecbl_df = pd.read_excel(file_path, sheet_name='ECBL')\n",
    "eobl_df = pd.read_excel(file_path, sheet_name='EOBL')\n",
    "channel_names = ecbl_df.columns.tolist()"
   ]
  },
  {
   "cell_type": "markdown",
   "metadata": {},
   "source": [
    "# Problem Statements: - "
   ]
  },
  {
   "cell_type": "markdown",
   "metadata": {},
   "source": [
    "#### 1. Alpha Spindle Count Comparison:Count the total number of alpha spindles in the sheets labelled ECBL and EOBL, then compare the counts to determine the difference."
   ]
  },
  {
   "cell_type": "code",
   "execution_count": null,
   "metadata": {},
   "outputs": [],
   "source": [
    "def df_to_raw(df, sfreq, ch_names):\n",
    "    data_scaled = scale(df.values.T)  # shape (n_channels, n_times)\n",
    "    info = mne.create_info(ch_names=ch_names, sfreq=sfreq, ch_types='eeg')\n",
    "    raw = mne.io.RawArray(data_scaled, info)\n",
    "    return raw\n",
    "\n",
    "raw_ecbl = df_to_raw(ecbl_df, sfreq, channel_names)\n",
    "raw_eobl = df_to_raw(eobl_df, sfreq, channel_names)"
   ]
  },
  {
   "cell_type": "code",
   "execution_count": null,
   "metadata": {},
   "outputs": [],
   "source": [
    "def apply_ica(raw):\n",
    "    ica = mne.preprocessing.ICA(n_components=15, random_state=97, max_iter=500)\n",
    "    ica.fit(raw)\n",
    "    raw_ica = ica.apply(raw.copy())\n",
    "    return raw_ica \n",
    "raw_ecbl_ica = apply_ica(raw_ecbl)\n",
    "raw_eobl_ica = apply_ica(raw_eobl)"
   ]
  },
  {
   "cell_type": "code",
   "execution_count": null,
   "metadata": {},
   "outputs": [],
   "source": [
    "def bandpass(raw, l_freq=8, h_freq=13):\n",
    "    return raw.copy().filter(l_freq=l_freq, h_freq=h_freq)\n",
    "\n",
    "raw_ecbl_alpha = bandpass(raw_ecbl_ica)\n",
    "raw_eobl_alpha = bandpass(raw_eobl_ica)"
   ]
  },
  {
   "cell_type": "code",
   "execution_count": null,
   "metadata": {},
   "outputs": [],
   "source": [
    "def detect_spindles(raw, channel='Pz', threshold_factor=2.5, min_duration=0.5):\n",
    "    signal = raw.get_data(picks=channel)[0]\n",
    "    \n",
    "    envelope = np.abs(hilbert(signal))\n",
    "    threshold = threshold_factor * np.std(envelope)\n",
    "\n",
    "    above = envelope > threshold\n",
    "    count, dur = 0, 0\n",
    "    for a in above:\n",
    "        if a:\n",
    "            dur += 1\n",
    "        elif dur > 0:\n",
    "            if dur / sfreq >= min_duration:\n",
    "                count += 1\n",
    "            dur = 0\n",
    "    return count"
   ]
  },
  {
   "cell_type": "code",
   "execution_count": null,
   "metadata": {},
   "outputs": [],
   "source": [
    "channel = 'Pz'  \n",
    "ecbl_count = detect_spindles(raw_ecbl_alpha, channel)\n",
    "eobl_count = detect_spindles(raw_eobl_alpha, channel)"
   ]
  },
  {
   "cell_type": "code",
   "execution_count": null,
   "metadata": {},
   "outputs": [],
   "source": [
    "print(f\"Alpha Spindle Count in ECBL: {ecbl_count}\")\n",
    "print(f\"Alpha Spindle Count in EOBL: {eobl_count}\")\n",
    "print(f\"Difference: {abs(ecbl_count - eobl_count)}\")"
   ]
  },
  {
   "cell_type": "code",
   "execution_count": null,
   "metadata": {},
   "outputs": [],
   "source": [
    "def plot_wavelet(signal, title='Wavelet Scaleogram', scales=np.arange(1, 128), wavelet='morl'):\n",
    "    coefs, freqs = pywt.cwt(signal, scales, wavelet, 1/sfreq)\n",
    "    plt.figure(figsize=(12, 6))\n",
    "    plt.imshow(np.abs(coefs), extent=[0, len(signal)/sfreq, scales[-1], scales[0]], \n",
    "               cmap='jet', aspect='auto')\n",
    "    plt.title(title)\n",
    "    plt.ylabel(\"Scale\")\n",
    "    plt.xlabel(\"Time (s)\")\n",
    "    plt.colorbar(label=\"Amplitude\")\n",
    "    plt.show()"
   ]
  },
  {
   "cell_type": "code",
   "execution_count": null,
   "metadata": {},
   "outputs": [],
   "source": [
    "plot_wavelet(raw_ecbl_alpha.get_data(picks=channel)[0], title='ECBL - Alpha Band - Pz')\n",
    "plot_wavelet(raw_eobl_alpha.get_data(picks=channel)[0], title='EOBL - Alpha Band - Pz')"
   ]
  },
  {
   "cell_type": "markdown",
   "metadata": {},
   "source": [
    "#### 2. Electrode-wise Alpha Spindle Count Comparison: For each electrode, count the number of alpha spindles in both ECBL and EOBL sheets. Compare the counts side by side for each electrode to highlight the differences."
   ]
  },
  {
   "cell_type": "code",
   "execution_count": null,
   "metadata": {},
   "outputs": [],
   "source": [
    "def electrode_wise_spindles(raw_ecbl, raw_eobl, threshold_factor=2.5, min_duration=0.5):\n",
    "    counts = []\n",
    "    for ch in raw_ecbl.ch_names:\n",
    "        ecbl_cnt = detect_spindles(raw_ecbl, ch, threshold_factor, min_duration)\n",
    "        eobl_cnt = detect_spindles(raw_eobl, ch, threshold_factor, min_duration)\n",
    "        diff = ecbl_cnt - eobl_cnt\n",
    "        counts.append([ch, ecbl_cnt, eobl_cnt, diff])\n",
    "    return pd.DataFrame(counts, columns=[\"Electrode\", \"ECBL Count\", \"EOBL Count\", \"Difference\"])\n",
    "\n",
    "spindle_comparison_df = electrode_wise_spindles(raw_ecbl_alpha, raw_eobl_alpha)\n",
    "\n",
    "print(spindle_comparison_df)\n",
    "\n",
    "spindle_comparison_df.to_csv(\"Alpha_Spindle_Electrode_Comparison.csv\", index=False)"
   ]
  },
  {
   "cell_type": "code",
   "execution_count": null,
   "metadata": {},
   "outputs": [],
   "source": [
    "spindle_comparison_df.set_index(\"Electrode\")[[\"ECBL Count\", \"EOBL Count\"]].plot(\n",
    "    kind='bar', figsize=(14, 6), title=\"Alpha Spindle Counts per Electrode (ECBL vs EOBL)\"\n",
    ")\n",
    "plt.ylabel(\"Spindle Count\")\n",
    "plt.grid(True)\n",
    "plt.tight_layout()\n",
    "plt.show()\n"
   ]
  },
  {
   "cell_type": "markdown",
   "metadata": {},
   "source": [
    "#### 3. Wavelet Transform (Scaleogram) and Spindle Visualization: Calculate the Scaleogram (wavelet transform coefficients) for a single electrode and for the complete dataset. Visualize the Scaleogram alongside the spindle activity on the same time scale."
   ]
  },
  {
   "cell_type": "code",
   "execution_count": null,
   "metadata": {},
   "outputs": [],
   "source": [
    "def compute_wavelet(signal, sfreq, wavelet='morl', max_scale=128):\n",
    "    scales = np.arange(1, max_scale)\n",
    "    coefs, freqs = pywt.cwt(signal, scales, wavelet, 1/sfreq)\n",
    "    return coefs, freqs\n",
    "\n",
    "def plot_scaleogram_with_spindles(signal, spindle_mask, sfreq, title='Scaleogram + Spindles'):\n",
    "    coefs, freqs = compute_wavelet(signal, sfreq)\n",
    "    time = np.arange(len(signal)) / sfreq\n",
    "\n",
    "    plt.figure(figsize=(14, 6))\n",
    "    plt.imshow(np.abs(coefs), extent=[time[0], time[-1], freqs[-1], freqs[0]],\n",
    "               cmap='jet', aspect='auto')\n",
    "    plt.colorbar(label='Amplitude')\n",
    "    plt.title(title)\n",
    "    plt.xlabel('Time (s)')\n",
    "    plt.ylabel('Frequency (Hz)')\n",
    "\n",
    "    for i in range(len(spindle_mask)):\n",
    "        if spindle_mask[i] and (i == 0 or not spindle_mask[i - 1]):\n",
    "            start = i\n",
    "        if spindle_mask[i] and (i == len(spindle_mask) - 1 or not spindle_mask[i + 1]):\n",
    "            end = i\n",
    "            plt.axvspan(start / sfreq, end / sfreq, color='white', alpha=0.3)\n",
    "\n",
    "    plt.tight_layout()\n",
    "    plt.show()\n"
   ]
  },
  {
   "cell_type": "code",
   "execution_count": null,
   "metadata": {},
   "outputs": [],
   "source": [
    "def get_spindle_mask(signal, sfreq, threshold_factor=2.5):\n",
    "    envelope = np.abs(hilbert(signal))\n",
    "    threshold = threshold_factor * np.std(envelope)\n",
    "    return envelope > threshold\n"
   ]
  },
  {
   "cell_type": "code",
   "execution_count": null,
   "metadata": {},
   "outputs": [],
   "source": [
    "raw = raw_ecbl_alpha  # or raw_eobl_alpha\n",
    "channel = 'Pz'\n",
    "\n",
    "signal = raw.get_data(picks=channel)[0]\n",
    "spindle_mask = get_spindle_mask(signal, sfreq)\n",
    "\n",
    "plot_scaleogram_with_spindles(signal, spindle_mask, sfreq,\n",
    "                              title=f\"ECBL: {channel} - Scaleogram with Spindles\")\n"
   ]
  },
  {
   "cell_type": "code",
   "execution_count": null,
   "metadata": {},
   "outputs": [],
   "source": [
    "def plot_avg_wavelet_power(raw, sfreq):\n",
    "    powers = []\n",
    "    for ch in raw.ch_names:\n",
    "        signal = raw.get_data(picks=ch)[0]\n",
    "        coefs, freqs = compute_wavelet(signal, sfreq)\n",
    "        power = np.mean(np.abs(coefs), axis=0)  # Avg over scales\n",
    "        powers.append(power)\n",
    "\n",
    "    avg_power = np.mean(np.array(powers), axis=0)\n",
    "    time = np.arange(len(avg_power)) / sfreq\n",
    "\n",
    "    plt.figure(figsize=(12, 4))\n",
    "    plt.plot(time, avg_power)\n",
    "    plt.title(\"Average Wavelet Power Across Electrodes\")\n",
    "    plt.xlabel(\"Time (s)\")\n",
    "    plt.ylabel(\"Power\")\n",
    "    plt.grid(True)\n",
    "    plt.tight_layout()\n",
    "    plt.show()\n"
   ]
  },
  {
   "cell_type": "code",
   "execution_count": null,
   "metadata": {},
   "outputs": [],
   "source": [
    "plot_avg_wavelet_power(raw_ecbl_alpha, sfreq)  # For ECBL\n",
    "plot_avg_wavelet_power(raw_eobl_alpha, sfreq)  # For EOBL"
   ]
  },
  {
   "cell_type": "markdown",
   "metadata": {},
   "source": [
    "#### 4. Epoch-based Visualization and Spindle Counting: Divide the complete dataset into 10-second epochs. For each epoch, visualize the spindles and the corresponding Scaleogram, while also counting the total number of spindles within each epoch."
   ]
  },
  {
   "cell_type": "code",
   "execution_count": null,
   "metadata": {},
   "outputs": [],
   "source": [
    "def epoch_signal(signal, epoch_length_sec, sfreq):\n",
    "    samples_per_epoch = int(epoch_length_sec * sfreq)\n",
    "    num_epochs = len(signal) // samples_per_epoch\n",
    "    return np.array_split(signal[:num_epochs * samples_per_epoch], num_epochs)"
   ]
  },
  {
   "cell_type": "code",
   "execution_count": null,
   "metadata": {},
   "outputs": [],
   "source": [
    "def count_spindles_in_epoch(epoch, sfreq, threshold_factor=2.5, min_duration=0.5):\n",
    "    envelope = np.abs(hilbert(epoch))\n",
    "    threshold = threshold_factor * np.std(envelope)\n",
    "    above_thresh = envelope > threshold\n",
    "\n",
    "    spindle_count = 0\n",
    "    duration_samples = int(min_duration * sfreq)\n",
    "    i = 0\n",
    "    while i < len(above_thresh):\n",
    "        if above_thresh[i]:\n",
    "            start = i\n",
    "            while i < len(above_thresh) and above_thresh[i]:\n",
    "                i += 1\n",
    "            if (i - start) >= duration_samples:\n",
    "                spindle_count += 1\n",
    "        else:\n",
    "            i += 1\n",
    "    return spindle_count, above_thresh"
   ]
  },
  {
   "cell_type": "code",
   "execution_count": null,
   "metadata": {},
   "outputs": [],
   "source": [
    "def plot_epoch_scaleogram(epoch, spindle_mask, sfreq, epoch_idx):\n",
    "    coefs, freqs = compute_wavelet(epoch, sfreq)\n",
    "    time = np.arange(len(epoch)) / sfreq\n",
    "\n",
    "    plt.figure(figsize=(14, 5))\n",
    "    plt.imshow(np.abs(coefs), extent=[time[0], time[-1], freqs[-1], freqs[0]],\n",
    "               cmap='jet', aspect='auto')\n",
    "    plt.colorbar(label='Amplitude')\n",
    "    plt.title(f\"Epoch {epoch_idx+1}: Scaleogram + Spindle Overlay\")\n",
    "    plt.xlabel(\"Time (s)\")\n",
    "    plt.ylabel(\"Frequency (Hz)\")\n",
    "\n",
    "    # Overlay spindle regions\n",
    "    for i in range(len(spindle_mask)):\n",
    "        if spindle_mask[i] and (i == 0 or not spindle_mask[i - 1]):\n",
    "            start = i\n",
    "        if spindle_mask[i] and (i == len(spindle_mask) - 1 or not spindle_mask[i + 1]):\n",
    "            end = i\n",
    "            plt.axvspan(start / sfreq, end / sfreq, color='white', alpha=0.3)\n",
    "\n",
    "    plt.tight_layout()\n",
    "    plt.show()\n"
   ]
  },
  {
   "cell_type": "code",
   "execution_count": null,
   "metadata": {},
   "outputs": [],
   "source": [
    "def epoch_analysis(raw, channel='Pz', epoch_duration=10):\n",
    "    sfreq = int(raw.info['sfreq'])\n",
    "    signal = raw.get_data(picks=channel)[0]\n",
    "    epochs = epoch_signal(signal, epoch_duration, sfreq)\n",
    "    \n",
    "    spindle_counts = []\n",
    "\n",
    "    for idx, epoch in enumerate(epochs):\n",
    "        count, spindle_mask = count_spindles_in_epoch(epoch, sfreq)\n",
    "        spindle_counts.append(count)\n",
    "        print(f\"Epoch {idx+1}: {count} spindles\")\n",
    "        plot_epoch_scaleogram(epoch, spindle_mask, sfreq, idx)\n",
    "\n",
    "    # Summary bar plot\n",
    "    plt.figure(figsize=(10, 4))\n",
    "    plt.bar(np.arange(1, len(spindle_counts)+1), spindle_counts)\n",
    "    plt.xlabel(\"Epoch Number\")\n",
    "    plt.ylabel(\"Spindle Count\")\n",
    "    plt.title(f\"Spindle Count per 10-second Epoch - Channel: {channel}\")\n",
    "    plt.grid(True)\n",
    "    plt.tight_layout()\n",
    "    plt.show()\n",
    "\n",
    "    return spindle_counts\n"
   ]
  },
  {
   "cell_type": "code",
   "execution_count": null,
   "metadata": {},
   "outputs": [],
   "source": [
    "# Make sure your raw data is filtered and ICA-cleaned\n",
    "epoch_spindle_counts = epoch_analysis(raw_ecbl_alpha, channel='Pz', epoch_duration=10)"
   ]
  }
 ],
 "metadata": {
  "kernelspec": {
   "display_name": "Python 3",
   "language": "python",
   "name": "python3"
  },
  "language_info": {
   "codemirror_mode": {
    "name": "ipython",
    "version": 3
   },
   "file_extension": ".py",
   "mimetype": "text/x-python",
   "name": "python",
   "nbconvert_exporter": "python",
   "pygments_lexer": "ipython3",
   "version": "3.10.11"
  }
 },
 "nbformat": 4,
 "nbformat_minor": 2
}
